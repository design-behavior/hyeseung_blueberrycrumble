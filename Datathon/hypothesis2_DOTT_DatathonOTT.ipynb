{
  "nbformat": 4,
  "nbformat_minor": 0,
  "metadata": {
    "colab": {
      "private_outputs": true,
      "provenance": [],
      "mount_file_id": "1zrBOeRzJeCng7edCs3L0JZBfxjVPItsF",
      "authorship_tag": "ABX9TyNpUUnzXcusso8ubUzq2+aD",
      "include_colab_link": true
    },
    "kernelspec": {
      "name": "python3",
      "display_name": "Python 3"
    },
    "language_info": {
      "name": "python"
    }
  },
  "cells": [
    {
      "cell_type": "markdown",
      "metadata": {
        "id": "view-in-github",
        "colab_type": "text"
      },
      "source": [
        "<a href=\"https://colab.research.google.com/github/blueberrycrumble/AIFFEL_quest_cr/blob/master/Datathon/hypothesis2_DOTT_DatathonOTT.ipynb\" target=\"_parent\"><img src=\"https://colab.research.google.com/assets/colab-badge.svg\" alt=\"Open In Colab\"/></a>"
      ]
    },
    {
      "cell_type": "code",
      "source": [
        "import pandas as pd\n",
        "import numpy as np\n",
        "import matplotlib.pyplot as plt\n",
        "import seaborn as sns\n",
        "import re\n",
        "import warnings\n",
        "from sklearn.cluster import KMeans\n",
        "\n",
        "from sklearn.feature_extraction.text import TfidfVectorizer\n",
        "from sklearn.cluster import KMeans\n",
        "from sklearn.metrics import silhouette_score\n",
        "\n",
        "warnings.filterwarnings('ignore')"
      ],
      "metadata": {
        "id": "Ki_xF9cqSQD5"
      },
      "execution_count": null,
      "outputs": []
    },
    {
      "cell_type": "markdown",
      "source": [
        "### 원본 데이터 로드"
      ],
      "metadata": {
        "id": "3aztItAoZsWR"
      }
    },
    {
      "cell_type": "code",
      "source": [
        "from google.colab import drive\n",
        "drive.mount('/content/drive')"
      ],
      "metadata": {
        "id": "QdOLfYeHJJ68"
      },
      "execution_count": null,
      "outputs": []
    },
    {
      "cell_type": "code",
      "source": [
        "# 평점 데이터\n",
        "imdb_df = pd.read_csv(r'/content/drive/MyDrive/Colab Notebooks/Toy Datasets/rating_netflix_with_imdb.csv')\n",
        "disney_rating_df = pd.read_csv(r'/content/drive/MyDrive/Colab Notebooks/Toy Datasets/disney_with_imdb.csv')\n",
        "\n",
        "# 평점 데이터 클린업 후 합치기\n",
        "\n",
        "# 원 데이터셋\n",
        "amazon_df = pd.read_csv(r'/content/drive/MyDrive/Colab Notebooks/Toy Datasets/amazon_prime_titles.csv')\n",
        "netflix_df = pd.read_csv(r'/content/drive/MyDrive/Colab Notebooks/Toy Datasets/netflix_titles.csv')\n",
        "disney_df = pd.read_csv(r'/content/drive/MyDrive/Colab Notebooks/Toy Datasets/disney_plus_titles.csv')"
      ],
      "metadata": {
        "id": "nRA-tYLPSTKn"
      },
      "execution_count": null,
      "outputs": []
    },
    {
      "cell_type": "code",
      "source": [
        "# 컬럼 이름을 소문자로 통일\n",
        "netflix_df.columns = netflix_df.columns.str.lower()\n",
        "amazon_df.columns = amazon_df.columns.str.lower()\n",
        "disney_df.columns = disney_df.columns.str.lower()\n",
        "\n",
        "# 공통 컬럼만 추출\n",
        "common_cols = ['type', 'title', 'director', 'cast', 'listed_in','release_year']\n",
        "netflix_df = netflix_df[common_cols]\n",
        "amazon_df = amazon_df[common_cols]\n",
        "disney_df = disney_df[common_cols]\n",
        "\n",
        "# 출처 플랫폼 컬럼 추가\n",
        "netflix_df['platform'] = 'Netflix'\n",
        "amazon_df['platform'] = 'Amazon'\n",
        "disney_df['platform'] = 'Disney'\n",
        "\n",
        "netflix_df.describe()\n",
        "disney_df.describe()\n",
        "amazon_df.describe()\n"
      ],
      "metadata": {
        "id": "Z8JSnHo0ULT1"
      },
      "execution_count": null,
      "outputs": []
    },
    {
      "cell_type": "code",
      "source": [
        "# Netflix missing value\n",
        "for i in range(len(netflix_df.isnull().sum())):\n",
        "    if netflix_df.isnull().sum()[i] > 0:\n",
        "        print('Netflix | Total Number of missing values in ' + netflix_df.isnull().sum().index[i] + ' : ',netflix_df.isnull().sum()[i])\n",
        "\n",
        "# Disney missing value\n",
        "for i in range(len(disney_df.isnull().sum())):\n",
        "    if disney_df.isnull().sum()[i] > 0:\n",
        "        print('Disney  | Total Number of missing values in ' + disney_df.isnull().sum().index[i] + ' : ',disney_df.isnull().sum()[i])\n",
        "\n",
        "# Amazon missing value\n",
        "for i in range(len(amazon_df.isnull().sum())):\n",
        "    if amazon_df.isnull().sum()[i] > 0:\n",
        "        print('Amazon  | Total Number of missing values in ' + amazon_df.isnull().sum().index[i] + ' : ',amazon_df.isnull().sum()[i])"
      ],
      "metadata": {
        "id": "lqj-QwO99fQh"
      },
      "execution_count": null,
      "outputs": []
    },
    {
      "cell_type": "code",
      "source": [
        "# title 컬럼에서 None 또는 NaN 값이 있는 행 찾기\n",
        "pd.concat([amazon_df.isnull().sum().rename('Amazon'),disney_df.isnull().sum().rename('Disney'),netflix_df.isnull().sum().rename('Netflix')],axis=1).T"
      ],
      "metadata": {
        "id": "Q1T8ZG8CvkTl"
      },
      "execution_count": null,
      "outputs": []
    },
    {
      "cell_type": "code",
      "source": [
        "# # 넷플릭스 데이터 결측치와 고유값 확인\n",
        "netflix_df[['director','cast']] = netflix_df[['director','cast']].fillna('Unknown')\n",
        "\n",
        "# # 디즈니 데이터 결측치와 고유값 확인\n",
        "disney_df[['director','cast']] = disney_df[['director','cast']].fillna('Unknown')\n",
        "\n",
        "# 아마존 데이터 결측치와 고유값 확인\n",
        "amazon_df[['director','cast']] = amazon_df[['director','cast']].fillna('Unknown')\n",
        "pd.concat([amazon_df.nunique().rename('amazon'),disney_df.nunique().rename('disney'),netflix_df.nunique().rename('netflix')], axis=1).T\n"
      ],
      "metadata": {
        "id": "xHV-FK9G9tNe"
      },
      "execution_count": null,
      "outputs": []
    },
    {
      "cell_type": "markdown",
      "source": [
        "### 데이터 클린업"
      ],
      "metadata": {
        "id": "ppwsTFnRpyBu"
      }
    },
    {
      "cell_type": "code",
      "source": [
        "# title 문자열 정리\n",
        "\n",
        "def clean_and_split_title(title):\n",
        "\n",
        "    processed_title = re.sub('[^0-9a-zA-Z]+', '', title)\n",
        "\n",
        "    # 영어와 외국어 분리 (영어가 아니면 None로 저장)\n",
        "    if len(processed_title) > 0:\n",
        "        return processed_title\n",
        "    else:\n",
        "        return None\n",
        "\n",
        "# 세 데이터셋의 타이틀에 변환 적용\n",
        "netflix_df['title'] = netflix_df['title'].apply(lambda x: pd.Series(clean_and_split_title(x)))\n",
        "disney_df['title'] = disney_df['title'].apply(lambda x: pd.Series(clean_and_split_title(x)))\n",
        "amazon_df['title'] = amazon_df['title'].apply(lambda x: pd.Series(clean_and_split_title(x)))\n",
        "imdb_df['title'] = imdb_df['title'].apply(lambda x: pd.Series(clean_and_split_title(x)))\n",
        "disney_rating_df['title'] = disney_rating_df['title'].apply(lambda x: pd.Series(clean_and_split_title(x)))"
      ],
      "metadata": {
        "id": "9qWG20jsHTTs"
      },
      "execution_count": null,
      "outputs": []
    },
    {
      "cell_type": "code",
      "source": [
        "# title 컬럼에서 None 또는 NaN 값이 있는 행 찾기\n",
        "pd.concat([amazon_df.isnull().sum().rename('Amazon'),\n",
        "           disney_df.isnull().sum().rename('Disney'),\n",
        "           netflix_df.isnull().sum().rename('Netflix'),\n",
        "           imdb_df.isnull().sum().rename('imdb'),\n",
        "           disney_rating_df.isnull().sum().rename('disney_rating')],axis=1).T"
      ],
      "metadata": {
        "id": "Nxtvi9VFr9rZ"
      },
      "execution_count": null,
      "outputs": []
    },
    {
      "cell_type": "code",
      "source": [
        "# 넷플릭스의 영화 제목에 결측치 10개 = 외국어 제목을 가져서 Null처리한 영화\n",
        "netflix_df = netflix_df.dropna(subset = ['title'])\n",
        "disney_df = disney_df.dropna(subset = ['title'])\n",
        "amazon_df = amazon_df.dropna(subset = ['title'])\n",
        "imdb_df = imdb_df.dropna(subset = ['title'])\n",
        "disney_rating_df = disney_rating_df.dropna(subset = ['title'])\n",
        "\n",
        "# title 컬럼에서 None 또는 NaN 값이 있는 행 찾기\n",
        "pd.concat([amazon_df.isnull().sum().rename('Amazon'),\n",
        "           disney_df.isnull().sum().rename('Disney'),\n",
        "           netflix_df.isnull().sum().rename('Netflix'),\n",
        "           imdb_df.isnull().sum().rename('imdb'),\n",
        "           disney_rating_df.isnull().sum().rename('disney_rating')],axis=1).T"
      ],
      "metadata": {
        "id": "yW3hfA4MxKjh"
      },
      "execution_count": null,
      "outputs": []
    },
    {
      "cell_type": "code",
      "source": [
        "# 결과 확인: 타이틀이 정리되었음\n",
        "netflix_df.head(100)\n"
      ],
      "metadata": {
        "id": "dYBp1D7TJxJA"
      },
      "execution_count": null,
      "outputs": []
    },
    {
      "cell_type": "code",
      "source": [
        "from sklearn.cluster import KMeans\n",
        "\n",
        "# 3사 데이터셋 합치기. title, director, release_year 가 매칭되는 중복 데이터 드롭하기\n",
        "combined_df = pd.concat([netflix_df, amazon_df, disney_df], axis = 0).sort_values('title')\n",
        "combined_df = combined_df.drop_duplicates(subset = ['title', 'director', 'release_year'], keep = 'first')\n",
        "\n",
        "# 외부 데이터셋의 imdb_rating 의 컬럼을 3사 데이터셋에 합치되, title director release_year를 기준으로 매칭되는 데이터인지 확인하고, imdb_rating 컬럼만 추가\n",
        "combined_df = combined_df.merge(imdb_df[['title', 'director', 'release_year', 'imdb_rating']], on = ['title', 'director', 'release_year'], how = 'left')\n",
        "# 외부 데이터셋 2: 다른 imdb_ratng을 추가할 때는 기존의 평점 데이터와 분리해서 먼저 imdb_rating_REMOVE에 담고, Null이 아닌 값만 imdb_rating 컬럼에 업데이트 해준다.\n",
        "combined_df = combined_df.merge(disney_rating_df[['title', 'director', 'release_year', 'imdb_rating']], on = ['title', 'director', 'release_year'], how = 'left', suffixes = ['', '_REMOVE'])\n",
        "combined_df['imdb_rating'] = combined_df['imdb_rating_REMOVE'].combine_first(combined_df['imdb_rating'])\n",
        "combined_df = combined_df.drop(columns = ['imdb_rating_REMOVE'], axis = 1).drop_duplicates()\n"
      ],
      "metadata": {
        "id": "g-wkSMfcJtja"
      },
      "execution_count": null,
      "outputs": []
    },
    {
      "cell_type": "code",
      "source": [
        "# 같은 영화에 출연한 배우(cast 컬럼의 리스트)를 여러 행으로 확장\n",
        "combined_df['cast'] = combined_df['cast'].apply(lambda x: str(x).split(', '))\n",
        "combined_df = combined_df.explode('cast')\n",
        "# factorize 는 텍스트 데이터를 정수로 인코딩하기 위해 사용됨\n",
        "combined_df['cast_id'] = combined_df['cast'].factorize()[0]\n",
        "combined_df['director_id'] = combined_df['director'].factorize()[0]\n",
        "combined_df['platform_id'] = combined_df['platform'].factorize()[0]\n",
        "\n",
        "# 리스트로 묶인 세분화된 영화의 장르를 군집화하여 추려내기 위헌 Cluster 알고리즘\n",
        "# 적합한 n_clusters 수치를 찾기위해 silhouette_score 를 활용할 예정\n",
        "kmeans = KMeans(n_clusters=120, random_state=42)\n",
        "combined_df['listed_in_id'] = kmeans.fit_predict(TfidfVectorizer().fit_transform(combined_df['listed_in']))\n",
        "\n",
        "combined_df"
      ],
      "metadata": {
        "id": "1cyKnyFGnFwb"
      },
      "execution_count": null,
      "outputs": []
    },
    {
      "cell_type": "markdown",
      "source": [
        "### 특정 배우가 출연한 imdb 점수와 일반적인 영화들의 imdb 점수 비교"
      ],
      "metadata": {
        "id": "CdwcMxYNiaGu"
      }
    },
    {
      "cell_type": "markdown",
      "source": [
        "#### 디카프리오"
      ],
      "metadata": {
        "id": "Eyors5A6oa9H"
      }
    },
    {
      "cell_type": "code",
      "source": [
        "combined_df[combined_df.cast == 'Leonardo DiCaprio']"
      ],
      "metadata": {
        "id": "kXvr7SK3q2Ud"
      },
      "execution_count": null,
      "outputs": []
    },
    {
      "cell_type": "code",
      "source": [
        "combined_df\n"
      ],
      "metadata": {
        "id": "XCU48l9ktlL2"
      },
      "execution_count": null,
      "outputs": []
    },
    {
      "cell_type": "markdown",
      "source": [
        "편향이 존재하는 그래프  \n",
        "\n",
        "\n",
        "![image.png](data:image/png;base64,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)"
      ],
      "metadata": {
        "id": "3bi1PrFEyXzC"
      }
    },
    {
      "cell_type": "markdown",
      "source": [
        "편향을 제거한 그래프  \n",
        "\n",
        "![image.png](data:image/png;base64,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)"
      ],
      "metadata": {
        "id": "QFnMvsDdzUaQ"
      }
    },
    {
      "cell_type": "markdown",
      "source": [
        "##### 스필버그 그래프"
      ],
      "metadata": {
        "id": "KOlwPuqXzfwa"
      }
    },
    {
      "cell_type": "code",
      "source": [
        "from scipy.stats import ks_2samp\n",
        "\n",
        "all_movies = combined_df.drop_duplicates(subset = ['title', 'release_year']).dropna(subset = ['imdb_rating'])\n",
        "spielberg = combined_df[combined_df.director == 'Steven Spielberg'].drop_duplicates(subset = ['title', 'release_year']).dropna(subset = ['imdb_rating']).dropna()\n",
        "spielberg_actors = combined_df[combined_df.cast.isin(combined_df[combined_df.director == 'Steven Spielberg'].cast.unique())] # 스필버그와 함께 일한 이력이 있는 모든 배우들\n",
        "spielberg_actors_without_spielberg = spielberg_actors[spielberg_actors.director != 'Steven Spielberg']\n",
        "\n",
        "# pvalue = ks_2samp(spielberg_actors['imdb_rating'].dropna(),spielberg_actors_without_spielberg['imdb_rating'].dropna()).pvalue\n",
        "\n",
        "\n",
        "fig, ax = plt.subplots(figsize = (15, 7))\n",
        "# ax.set_title(f'Spielberg effect, two-sided kstest p-value: {pvalue:.3f}')\n",
        "ax.set_title(f'Spielberg effect')\n",
        "#ax.set_title(f'IMDB scores')\n",
        "ax.set_xlabel('IMDB score')\n",
        "ax.set_ylabel('Density')\n",
        "sns.kdeplot(ax=ax, data=all_movies, x='imdb_rating', fill=True, alpha = 0.05, color='blue',label=f'All IMDB Scores (n_movies = {all_movies.shape[0]})')\n",
        "# sns.kdeplot(ax=ax, data=spielberg, x='imdb_rating', fill=True, color='orange', alpha = 0.1, label=f'Director Spielberg (n_movies = {spielberg.shape[0]})')\n",
        "# sns.kdeplot(ax=ax, data=spielberg_actors.dropna(subset = ['imdb_rating']), x='imdb_rating', fill=True, color='green',label=f'Spielberg\\'s actors scores (n_actors = {spielberg_actors.cast.nunique()}), n_movies = {spielberg_actors.cast.count()})')\n",
        "# sns.kdeplot(ax=ax, data=spielberg_actors_without_spielberg.dropna(subset = ['imdb_rating']), x='imdb_rating', fill=True, color='red',label=f'Spielberg\\'s actors scores without maestro  (n_actors = {spielberg_actors_without_spielberg.cast.nunique()}), n_movies = {spieliberg_actors_without_spielberg.cast.count()})')\n",
        "\n",
        "\n",
        "\n",
        "\n",
        "# lines show the mean of distributions\n",
        "ax.axvline(all_movies['imdb_rating'].mean(),color='blue')\n",
        "# ax.axvline(spielberg['imdb_rating'].mean(),color='darkorange')\n",
        "# ax.axvline(spielberg_actors['imdb_rating'].dropna().mean(),color='green')\n",
        "# ax.axvline(spielberg_actors_without_spielberg['imdb_rating'].dropna().mean(),color='red')\n",
        "ax.legend()\n",
        "\n",
        "\n",
        "# 스필버그 이펙트: 스필버그의 영화가 배우들의 커리어에 미치는 영향을 재미로 살펴보자!\n",
        "# 스필버그와 같이 일했던 배우들은 일반 배우들에 비해 전체 필모에서 높은 imdb 점수의 경향을 보이는가?\n",
        "# 높은 스코어를 보인 레오나르도를 스필버그의 데이터에서 제외하고, 스필버그 영화에 출연한 다른 배우들의 데이터를 대조하면, 스필버그 감독의 영향력이 레오나르도의 스코어에 미치는 영향을 볼 수 있지 않을까?\n",
        "# 스필버그 영화에 출연한 배우들의 imdb 점수가 스필버그 영화에 출연한 이전/이후\n",
        "\n",
        "# 편향:\n",
        "# 1) 유명 감독일 수록 데이터량이 많음\n",
        "# 2) cast 멤버를 개별 행으로 분리했기 때문에 imdb 스코어가 낮은 영화에 캐스트 멤버가 많을 경우 상단 그래프와 같은 구멍이 발생함.\n",
        "# 수정된 그래프는 2번 편향을 제거하여 신뢰도가 있음"
      ],
      "metadata": {
        "id": "Yok2bdPPw1W3"
      },
      "execution_count": null,
      "outputs": []
    },
    {
      "cell_type": "code",
      "source": [
        "spieliberg_actors_without_spielberg"
      ],
      "metadata": {
        "id": "2VazF_G6CzVg"
      },
      "execution_count": null,
      "outputs": []
    },
    {
      "cell_type": "markdown",
      "source": [
        "#### exploration"
      ],
      "metadata": {
        "id": "2YLjRMFazuhh"
      }
    },
    {
      "cell_type": "code",
      "source": [
        "director_scores = {}\n",
        "for _, group in combined_df[combined_df.cast != 'Unknown'].drop_duplicates(subset = ['director', 'title']).groupby('director'):\n",
        "    director_scores[group.director.iloc[0]] = group.imdb_rating.dropna().mean()\n",
        "director_scores = pd.Series(director_scores, name = 'imdb_rating_mean').sort_values().dropna()\n",
        "\n",
        "horrible_director = director_scores.index[100]\n",
        "horrible_director_actors = combined_df[combined_df.cast.isin(combined_df[combined_df.director == horrible_director].cast.unique())] # 스필버그와 함께 일한 이력이 있는 모든 배우들\n",
        "horrible_director_without_himher = horrible_director_actors[horrible_director_actors.director != horrible_director]\n",
        "\n",
        "\n",
        "fig, ax = plt.subplots(figsize = (15, 7))\n",
        "# ax.set_title(f'IMDB scores, kstest pvalue: {pvalue:.3f}')\n",
        "ax.set_title(f'IMDB scores')\n",
        "ax.set_xlabel('IMDB score')\n",
        "ax.set_ylabel('Density')\n",
        "# ax.hist(df_merged['imdb_rating'], bins=30,color='blue',density=True,alpha=0.5,label='all imdb scores')\n",
        "# ax.hist(df_leo['imdb_rating'],bins=30,color='orange',density=True,alpha=0.5,label='leo imdb')\n",
        "sns.kdeplot(ax=ax, data=combined_df.drop_duplicates(subset = ['title', 'release_year']).dropna(subset = ['imdb_rating']), x='imdb_rating', fill=True, alpha = 0.05, color='blue',label='All IMDB Scores')\n",
        "sns.kdeplot(ax=ax, data=combined_df[combined_df.director == horrible_director].drop_duplicates(subset = ['title', 'release_year']).dropna(subset = ['imdb_rating']), x='imdb_rating', fill=True, color='orange', alpha = 0.1, label='Director Spielberg')\n",
        "sns.kdeplot(ax=ax, data=horrible_director_actors.dropna(subset = ['imdb_rating']), x='imdb_rating', fill=True, color='green',label='Horrible director\\'s actors scores')\n",
        "sns.kdeplot(ax=ax, data=horrible_director_without_himher.dropna(subset = ['imdb_rating']), x='imdb_rating', fill=True, color='red',label='Horribe director\\'s actors scores without maestro')\n",
        "\n",
        "\n",
        "\n",
        "\n",
        "# lines show the mean of distributions\n",
        "ax.axvline(combined_df.drop_duplicates(subset = ['title', 'release_year'])['imdb_rating'].dropna().mean(),color='blue')\n",
        "ax.axvline(combined_df[combined_df.director == 'Los Horriblos'].drop_duplicates(subset = ['title', 'release_year'])['imdb_rating'].dropna().mean(), color='darkorange')\n",
        "ax.axvline(horrible_director_actors['imdb_rating'].dropna().mean(),color='green')\n",
        "ax.axvline(horrible_director_without_himher['imdb_rating'].dropna().mean(),color='red')\n",
        "ax.legend()\n",
        "\n",
        "\n",
        "# 스필버그 이펙트: 스필버그의 영화가 배우들의 커리어에 미치는 영향을 재미로 살펴보자!\n",
        "# 스필버그와 같이 일했던 배우들은 일반 배우들에 비해 전체 필모에서 높은 imdb 점수의 경향을 보이는가?\n",
        "# 높은 스코어를 보인 레오나르도를 스필버그의 데이터에서 제외하고, 스필버그 영화에 출연한 다른 배우들의 데이터를 대조하면, 스필버그 감독의 영향력이 레오나르도의 스코어에 미치는 영향을 볼 수 있지 않을까?\n",
        "# 스필버그 영화에 출연한 배우들의 imdb 점수가 스필버그 영화에 출연한 이전/이후\n",
        "\n",
        "# 편향:\n",
        "# 1) 유명 감독일 수록 데이터량이 많음\n",
        "# 2) cast 멤버를 개별 행으로 분리했기 때문에 imdb 스코어가 낮은 영화에 캐스트 멤버가 많을 경우 상단 그래프와 같은 구멍이 발생함.\n",
        "# 수정된 그래프는 2번 편향을 제거하여 신뢰도가 있음"
      ],
      "metadata": {
        "id": "wU-3LNKGzxZK"
      },
      "execution_count": null,
      "outputs": []
    },
    {
      "cell_type": "code",
      "source": [
        "combined_df[combined_df.director == horrible_director]#.drop_duplicates(subset = ['title', 'release_year']).dropna(subset = ['imdb_rating'])\n"
      ],
      "metadata": {
        "id": "nCsMCFkp-sh2"
      },
      "execution_count": null,
      "outputs": []
    },
    {
      "cell_type": "code",
      "source": [
        "horrible_director_actors"
      ],
      "metadata": {
        "id": "KYbdioCo-h0b"
      },
      "execution_count": null,
      "outputs": []
    },
    {
      "cell_type": "code",
      "source": [],
      "metadata": {
        "id": "dx7FmFwa8zII"
      },
      "execution_count": null,
      "outputs": []
    },
    {
      "cell_type": "markdown",
      "source": [
        "##### 레오나르도 그래프"
      ],
      "metadata": {
        "id": "d7YLRUEzzh5v"
      }
    },
    {
      "cell_type": "code",
      "source": [
        "from scipy.stats import ks_2samp\n",
        "\n",
        "pvalue = ks_2samp(df_merged['imdb_rating'].dropna(),df_leo['imdb_rating'].dropna()).pvalue\n",
        "\n",
        "\n",
        "fig, ax = plt.subplots()\n",
        "ax.set_title(f'IMDB scores, kstest pvalue: {pvalue:.3f}')\n",
        "ax.set_xlabel('IMDB score')\n",
        "ax.set_ylabel('Density')\n",
        "# ax.hist(df_merged['imdb_rating'], bins=30,color='blue',density=True,alpha=0.5,label='all imdb scores')\n",
        "# ax.hist(df_leo['imdb_rating'],bins=30,color='orange',density=True,alpha=0.5,label='leo imdb')\n",
        "sns.kdeplot(ax=ax, data=combined_df, x='imdb_rating', fill=True, color='blue',label='All IMDB Scores')\n",
        "sns.kdeplot(ax=ax, data=df_leo, x='imdb_rating', fill=True, color='orange',label='DiCaprio')\n",
        "\n",
        "# lines show the mean of distributions\n",
        "ax.axvline(df_merged['imdb_rating'].dropna().mean(),color='blue')\n",
        "ax.axvline(df_leo['imdb_rating'].dropna().mean(),color='darkorange')\n",
        "ax.legend()\n",
        "\n"
      ],
      "metadata": {
        "id": "Op2nZFz_hBou"
      },
      "execution_count": null,
      "outputs": []
    },
    {
      "cell_type": "code",
      "source": [
        "from scipy.stats import ks_2samp\n",
        "\n",
        "ks_2samp(df_merged['imdb_rating'].dropna(),df_leo['imdb_rating'].dropna()).pvalue"
      ],
      "metadata": {
        "id": "DCxN9K4GkROr"
      },
      "execution_count": null,
      "outputs": []
    },
    {
      "cell_type": "markdown",
      "source": [
        "#### kmeans clustering"
      ],
      "metadata": {
        "id": "en96W0-boChq"
      }
    },
    {
      "cell_type": "code",
      "source": [
        "from sklearn.feature_extraction.text import TfidfVectorizer\n",
        "from sklearn.cluster import KMeans\n",
        "from sklearn.metrics import silhouette_score\n",
        "\n",
        "# TF-IDF 벡터화\n",
        "vectorizer = TfidfVectorizer()\n",
        "X = vectorizer.fit_transform(df['listed_in'])\n",
        "X\n",
        "# K-Means 클러스터링 (예: 8개의 주요 장르 그룹)\n",
        "\n",
        "scores=[]\n",
        "for n_cluster in np.arange(30, 50, 5):\n",
        "\n",
        "    kmeans = KMeans(n_clusters=n_cluster, random_state=42)\n",
        "    scores.append(silhouette_score(X,kmeans.fit_predict(X)))\n",
        "    print(scores)\n",
        "\n",
        "# df['genre_cluster'] = kmeans.fit_predict(X)\n",
        "# kmeans.fit_predict(X)\n",
        "# X.todense()"
      ],
      "metadata": {
        "id": "PFEPkwppmf5b"
      },
      "execution_count": null,
      "outputs": []
    },
    {
      "cell_type": "markdown",
      "source": [
        "- TF-IDF 공백으로 단어를 구분하고 바이너리 인코딩  \n",
        "    TF: 용어 빈도 계산  \n",
        "    IDF: 역문서빈도 계산\n",
        "- K-means 알고리즘\n",
        "가깝게 위치하는 데이터를 비슷한 특성을 지닌 데이터로 여기고 같은 군집으로 군집화(clustering)\n",
        "\n"
      ],
      "metadata": {
        "id": "CReoISPXwYAW"
      }
    },
    {
      "cell_type": "code",
      "source": [
        "kmeans = KMeans(n_clusters=120, random_state=42)\n",
        "df['listed_in_id'] = kmeans.fit_predict(X)"
      ],
      "metadata": {
        "id": "Y28z_5fEu-tI"
      },
      "execution_count": null,
      "outputs": []
    },
    {
      "cell_type": "code",
      "source": [
        "df[~df.duplicated('show_id')].head(100)"
      ],
      "metadata": {
        "id": "MAXcLE8lzXlR"
      },
      "execution_count": null,
      "outputs": []
    },
    {
      "cell_type": "code",
      "source": [
        "# ML 인풋 데이터셋 생성\n",
        "# zsample weight이 중요하다!\n",
        "\n",
        "\n",
        "X_train = df.dropna(subset=['imdb_rating'])\n",
        "sample_weight = X_train.title.map(1/X_train.title.value_counts())\n",
        "\n",
        "y_train = X_train['imdb_rating']\n",
        "X_train = X_train[['type_id','director_id','platform_id','listed_in_id']]\n",
        "X_test = df[df['imdb_rating'].isnull()][['type_id','director_id','platform_id','listed_in_id']]\n",
        "X_test\n",
        "\n",
        "sample_weight.shape, X_train.shape, y_train.shape"
      ],
      "metadata": {
        "id": "oAD_0vpb0Tm2"
      },
      "execution_count": null,
      "outputs": []
    },
    {
      "cell_type": "code",
      "source": [
        "from sklearn.ensemble import HistGradientBoostingRegressor\n",
        "from sklearn.model_selection import cross_val_score\n",
        "# groups=X_train.index\n",
        "print(cross_val_score(HistGradientBoostingRegressor(max_iter=100, max_depth=10, early_stopping=False), X_train, y_train, groups=X_train.index, params={'sample_weight': sample_weight}),) # model, x, y as parameter\n",
        "model = HistGradientBoostingRegressor(max_iter=100, max_depth=10, early_stopping=False)\n",
        "model.fit(X_train,y_train, sample_weight=sample_weight )\n",
        ",\n",
        "# 결과값이 1에 가까울 수록 높은 예측률(현실적으로 0.3 정도만 되어도 괜찮은 결과라고 봄) -1에 가까울 수록 바보 모델"
      ],
      "metadata": {
        "id": "0T4B--UL5oDl"
      },
      "execution_count": null,
      "outputs": []
    },
    {
      "cell_type": "code",
      "source": [
        "model.predict(X_test)"
      ],
      "metadata": {
        "id": "XCZ4n3Rd7Tws"
      },
      "execution_count": null,
      "outputs": []
    },
    {
      "cell_type": "code",
      "source": [
        "fig,ax = plt.subplots()\n",
        "ax.scatter(y_train, model.predict(X_train), s=3)\n",
        "# 대각선 선형이어야 하는데 모델이 아주 구림을 증명"
      ],
      "metadata": {
        "id": "qxD7G8bhBEMj"
      },
      "execution_count": null,
      "outputs": []
    },
    {
      "cell_type": "markdown",
      "source": [
        "#### 네트워크 그래프"
      ],
      "metadata": {
        "id": "hxl7CUzbqH6S"
      }
    },
    {
      "cell_type": "code",
      "source": [
        "# test\n",
        "\n",
        "import networkx as nx\n",
        "import re\n",
        "\n",
        "# 예제 데이터 (같은 감독-배우 조합이 여러 영화에서 등장)\n",
        "\n",
        "# Test용 DataFrame 생성\n",
        "df_test = df\n",
        "\n",
        "# 🔹 NaN 값 처리 (빈 문자열로 변환 후 문자열 타입 변환)\n",
        "df_test['director'] = df_test['director'].fillna('').astype(str)\n",
        "df_test['cast'] = df_test['cast'].fillna('').astype(str)\n",
        "\n",
        "# 🔹 특수 문자 제거 함수\n",
        "def clean_text(text):\n",
        "    return re.sub(r'[^a-zA-Z0-9\\s]', '', text)  # 영문, 숫자, 공백만 남기기\n",
        "\n",
        "# 🔹 감독 및 배우 컬럼 정리\n",
        "df_test['director'] = df_test['director'].apply(clean_text)\n",
        "df_test['cast'] = df_test['cast'].apply(clean_text)\n",
        "\n",
        "# 감독-배우 협업 횟수 계산\n",
        "df_grouped = df_test.groupby(['director', 'cast']).size().reset_index(name='weight')\n",
        "\n",
        "# 네트워크 그래프 생성\n",
        "G = nx.Graph()\n",
        "\n",
        "# 감독과 배우 관계 추가 (가중치 포함)\n",
        "for _, row in df_grouped.iterrows():\n",
        "    G.add_edge(row['director'], row['cast'], weight=row['weight'])  # 협업 횟수를 weight로 설정\n",
        "\n",
        "# 그래프 시각화\n",
        "plt.figure(figsize=(10, 7))\n",
        "pos = nx.spring_layout(G, seed=42)  # 노드 배치\n",
        "\n",
        "# 가중치 기반으로 엣지 두께 설정\n",
        "edges = G.edges(data=True)\n",
        "weights = [d['weight'] * 0.01 for (_, _, d) in edges]  # 가중치를 2배로 확대해 강조\n",
        "\n",
        "# 노드 및 엣지 그리기\n",
        "nx.draw(G, pos, with_labels=True, node_color=\"lightblue\", edge_color=\"gray\", node_size=30, font_size=5, font_weight=\"bold\", width=weights)\n",
        "\n",
        "# 그래프 제목\n",
        "plt.title(\"Weighted Director-Actor Collaboration Graph\")\n",
        "plt.show()\n"
      ],
      "metadata": {
        "id": "l7OTEtcVsBEH"
      },
      "execution_count": null,
      "outputs": []
    }
  ]
}